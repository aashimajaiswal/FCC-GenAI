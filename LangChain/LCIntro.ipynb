{
 "cells": [
  {
   "cell_type": "code",
   "execution_count": null,
   "metadata": {},
   "outputs": [],
   "source": [
    "# installation\n",
    "! pip install langchain langchain-community"
   ]
  },
  {
   "cell_type": "code",
   "execution_count": null,
   "metadata": {},
   "outputs": [],
   "source": [
    "# set up environment (see notes)"
   ]
  },
  {
   "cell_type": "code",
   "execution_count": null,
   "metadata": {},
   "outputs": [],
   "source": [
    "# OpenAI Langchain demo completed in ChromaDBDemo.ipynb\n",
    "# llm.predict -> one answer // llm.invoke -> multiple ans (5)"
   ]
  },
  {
   "cell_type": "code",
   "execution_count": null,
   "metadata": {},
   "outputs": [],
   "source": [
    "# Hugging face\n",
    "!pip install huggingface_hub"
   ]
  },
  {
   "cell_type": "code",
   "execution_count": null,
   "metadata": {},
   "outputs": [],
   "source": [
    "from langchain import HuggingFaceHub"
   ]
  },
  {
   "cell_type": "code",
   "execution_count": null,
   "metadata": {},
   "outputs": [
    {
     "name": "stderr",
     "output_type": "stream",
     "text": [
      "/tmp/ipykernel_4458/1920577142.py:1: LangChainDeprecationWarning: The class `HuggingFaceHub` was deprecated in LangChain 0.0.21 and will be removed in 1.0. An updated version of the class exists in the :class:`~langchain-huggingface package and should be used instead. To use it run `pip install -U :class:`~langchain-huggingface` and import as `from :class:`~langchain_huggingface import HuggingFaceEndpoint``.\n",
      "  llm = HuggingFaceHub(repo_id = \"google/flan-t5-large\", model_kwargs={\"temperature\":0, \"max_length\":64})\n",
      "/opt/conda/envs/telebot/lib/python3.13/site-packages/tqdm/auto.py:21: TqdmWarning: IProgress not found. Please update jupyter and ipywidgets. See https://ipywidgets.readthedocs.io/en/stable/user_install.html\n",
      "  from .autonotebook import tqdm as notebook_tqdm\n",
      "/tmp/ipykernel_4458/1920577142.py:2: LangChainDeprecationWarning: The method `BaseLLM.__call__` was deprecated in langchain-core 0.1.7 and will be removed in 1.0. Use :meth:`~invoke` instead.\n",
      "  llm(\"Tell me about Carlos Sainz Jr. in 50 words\")\n",
      "/opt/conda/envs/telebot/lib/python3.13/site-packages/huggingface_hub/utils/_deprecation.py:131: FutureWarning: 'post' (from 'huggingface_hub.inference._client') is deprecated and will be removed from version '0.31.0'. Making direct POST requests to the inference server is not supported anymore. Please use task methods instead (e.g. `InferenceClient.chat_completion`). If your use case is not supported, please open an issue in https://github.com/huggingface/huggingface_hub.\n",
      "  warnings.warn(warning_message, FutureWarning)\n"
     ]
    },
    {
     "data": {
      "text/plain": [
       "'Carlos Sainz Jr. is a former professional baseball player.'"
      ]
     },
     "metadata": {},
     "output_type": "display_data"
    }
   ],
   "source": [
    "llm = HuggingFaceHub(repo_id = \"google/flan-t5-large\", model_kwargs={\"temperature\":0, \"max_length\":64})\n",
    "llm(\"Tell me about Carlos Sainz Jr. in 50 words\")"
   ]
  },
  {
   "cell_type": "code",
   "execution_count": null,
   "metadata": {},
   "outputs": [
    {
     "data": {
      "text/plain": [
       "'Tell be the best Indian dish'"
      ]
     },
     "metadata": {},
     "output_type": "display_data"
    }
   ],
   "source": [
    "# prompt template\n",
    "from langchain.prompts import PromptTemplate\n",
    "prompt = PromptTemplate.from_template(\"Tell be the best {cuisine} dish\")\n",
    "prompt.format(cuisine = \"Indian\")"
   ]
  },
  {
   "cell_type": "code",
   "execution_count": null,
   "metadata": {},
   "outputs": [
    {
     "name": "stderr",
     "output_type": "stream",
     "text": [
      "/tmp/ipykernel_4458/2055022739.py:5: LangChainDeprecationWarning: The class `OpenAI` was deprecated in LangChain 0.0.10 and will be removed in 1.0. An updated version of the class exists in the :class:`~langchain-openai package and should be used instead. To use it run `pip install -U :class:`~langchain-openai` and import as `from :class:`~langchain_openai import OpenAI``.\n",
      "  llm = OpenAI(temperature = 0.7)\n",
      "/tmp/ipykernel_4458/2055022739.py:13: LangChainDeprecationWarning: The class `LLMChain` was deprecated in LangChain 0.1.17 and will be removed in 1.0. Use :meth:`~RunnableSequence, e.g., `prompt | llm`` instead.\n",
      "  chain = LLMChain(llm = llm, prompt = prompt)\n",
      "/tmp/ipykernel_4458/2055022739.py:14: LangChainDeprecationWarning: The method `Chain.run` was deprecated in langchain 0.1.0 and will be removed in 1.0. Use :meth:`~invoke` instead.\n",
      "  response = chain.run(\"Mexican\")\n"
     ]
    },
    {
     "data": {
      "text/plain": [
       "'\\n\\nThe best Mexican dish is subjective, as tastes and preferences vary. However, some popular and highly regarded Mexican dishes include:\\n\\n1. Tacos: A classic Mexican dish, tacos are made with a corn or flour tortilla filled with various meats (such as carne asada, chicken, or pork), vegetables, cheese, and salsa.\\n\\n2. Enchiladas: These are made by rolling a tortilla around a filling, typically shredded chicken or beef, and then covering it with a chili sauce and cheese before baking.\\n\\n3. Tamales: Tamales are made with masa dough filled with a savory or sweet filling, then wrapped in corn husks or banana leaves and steamed.\\n\\n4. Pozole: A hearty and flavorful soup made with hominy and pork or chicken, pozole is often served with garnishes such as lettuce, radishes, and lime.\\n\\n5. Chiles Rellenos: A popular dish in Mexico, chiles rellenos are roasted poblano peppers stuffed with cheese or meat, then battered and fried.\\n\\n6. Mole: A rich and complex sauce made with a variety of chilies, spices, and chocolate, mole is often served over chicken or pork.\\n\\n7. Fajitas: Grilled strips of meat'"
      ]
     },
     "metadata": {},
     "output_type": "display_data"
    }
   ],
   "source": [
    "# Chain: combine different components like LLMs and prompts in a sequence/ chain to make a gen ai end product\n",
    "\n",
    "# llm\n",
    "from langchain.llms import OpenAI\n",
    "llm = OpenAI(temperature = 0.7)\n",
    "\n",
    "# prompt\n",
    "from langchain.prompts import PromptTemplate\n",
    "prompt = PromptTemplate.from_template(\"Tell be the best {cuisine} dish\")\n",
    "\n",
    "# chain \n",
    "from langchain.chains import LLMChain\n",
    "chain = LLMChain(llm = llm, prompt = prompt)\n",
    "response = chain.run(\"Mexican\")\n",
    "response"
   ]
  },
  {
   "cell_type": "code",
   "execution_count": null,
   "metadata": {},
   "outputs": [],
   "source": [
    "# Sequence Chains: Combine multiple chains"
   ]
  },
  {
   "cell_type": "code",
   "execution_count": null,
   "metadata": {},
   "outputs": [],
   "source": [
    "# Simple Sequence\n",
    "llm = OpenAI(temperature=0)\n",
    "\n",
    "prompt_template_name = PromptTemplate(\n",
    "    input_variables =['cuisine'],\n",
    "    template = \"I want to open a restaurant for {cuisine} food. Suggest a fancy name for this.\"\n",
    ")\n",
    "\n",
    "name_chain =LLMChain(llm=llm, prompt=prompt_template_name)\n",
    "\n",
    "prompt_template_items = PromptTemplate(\n",
    "    input_variables = ['restaurant_name'],\n",
    "    template=\"\"\"Suggest some menu items for {restaurant_name}\"\"\"\n",
    ")\n",
    "\n",
    "food_items_chain = LLMChain(llm=llm, prompt=prompt_template_items)\n",
    "food_items_chain"
   ]
  },
  {
   "cell_type": "code",
   "execution_count": null,
   "metadata": {},
   "outputs": [
    {
     "name": "stdout",
     "output_type": "stream",
     "text": [
      "\n",
      "\n",
      "1. Spicy Chicken Tikka Masala\n",
      "2. Vegetable Samosas\n",
      "3. Lamb Vindaloo\n",
      "4. Tandoori Shrimp\n",
      "5. Aloo Gobi (potato and cauliflower curry)\n",
      "6. Chicken Biryani\n",
      "7. Palak Paneer (spinach and cheese curry)\n",
      "8. Chana Masala (chickpea curry)\n",
      "9. Garlic Naan\n",
      "10. Mango Lassi (yogurt drink)\n",
      "11. Tandoori Chicken\n",
      "12. Vegetable Korma\n",
      "13. Dal Makhani (creamy lentil curry)\n",
      "14. Chicken Tandoori Wrap\n",
      "15. Gulab Jamun (sweet fried dough balls in syrup)\n"
     ]
    }
   ],
   "source": [
    "from langchain.chains import SimpleSequentialChain\n",
    "chain = SimpleSequentialChain(chains = [name_chain, food_items_chain])\n",
    "\n",
    "content = chain.run(\"indian\")\n",
    "print(content)"
   ]
  },
  {
   "cell_type": "code",
   "execution_count": null,
   "metadata": {},
   "outputs": [],
   "source": [
    "# Sequential Chain\n",
    "llm = OpenAI(temperature=0.7)\n",
    "\n",
    "prompt_template_name = PromptTemplate(\n",
    "    input_variables =['cuisine'],\n",
    "    template = \"I want to open a restaurant for {cuisine} food. Suggest a fancy name for this.\"\n",
    ")\n",
    "\n",
    "name_chain =LLMChain(llm=llm, prompt=prompt_template_name, output_key=\"restaurant_name\")"
   ]
  },
  {
   "cell_type": "code",
   "execution_count": null,
   "metadata": {},
   "outputs": [],
   "source": [
    "llm = OpenAI(temperature=0.7)\n",
    "\n",
    "prompt_template_items = PromptTemplate(\n",
    "    input_variables = ['restaurant_name'],\n",
    "    template=\"Suggest some menu items for {restaurant_name}.\"\n",
    ")\n",
    "\n",
    "food_items_chain =LLMChain(llm=llm, prompt=prompt_template_items, output_key=\"menu_items\")"
   ]
  },
  {
   "cell_type": "code",
   "execution_count": null,
   "metadata": {},
   "outputs": [],
   "source": [
    "from langchain.chains import SequentialChain\n",
    "\n",
    "chain = SequentialChain(\n",
    "    chains = [name_chain, food_items_chain],\n",
    "    input_variables = ['cuisine'],\n",
    "    output_variables = ['restaurant_name', \"menu_items\"]\n",
    ")"
   ]
  },
  {
   "cell_type": "code",
   "execution_count": null,
   "metadata": {},
   "outputs": [
    {
     "name": "stdout",
     "output_type": "stream",
     "text": [
      "{'cuisine': 'indian', 'restaurant_name': '\\n\\n\"Spice Palace\"', 'menu_items': '\\n\\n1. Spicy Chicken Curry\\n2. Tandoori Shrimp Skewers\\n3. Lamb Vindaloo\\n4. Vegetable Samosas\\n5. Butter Chicken\\n6. Chana Masala (chickpea curry)\\n7. Aloo Gobi (potato and cauliflower curry)\\n8. Tandoori Chicken Tikka Masala\\n9. Saag Paneer (spinach and cheese curry)\\n10. Vegetable Biryani\\n11. Chicken Korma\\n12. Naan bread (plain or garlic)\\n13. Mango Lassi (yogurt-based drink)\\n14. Raita (yogurt and cucumber dip)\\n15. Gulab Jamun (sweet fried dumplings)'}\n"
     ]
    }
   ],
   "source": [
    "print(chain({\"cuisine\": \"indian\"}))"
   ]
  },
  {
   "cell_type": "code",
   "execution_count": null,
   "metadata": {},
   "outputs": [
    {
     "name": "stdout",
     "output_type": "stream",
     "text": [
      "Collecting wikipedia\n",
      "  Downloading wikipedia-1.4.0.tar.gz (27 kB)\n",
      "  Preparing metadata (setup.py) ... \u001b[?25ldone\n",
      "\u001b[?25hCollecting beautifulsoup4 (from wikipedia)\n",
      "  Downloading beautifulsoup4-4.13.3-py3-none-any.whl.metadata (3.8 kB)\n",
      "Requirement already satisfied: requests<3.0.0,>=2.0.0 in /opt/conda/envs/telebot/lib/python3.13/site-packages (from wikipedia) (2.32.3)\n",
      "Requirement already satisfied: charset-normalizer<4,>=2 in /opt/conda/envs/telebot/lib/python3.13/site-packages (from requests<3.0.0,>=2.0.0->wikipedia) (3.4.1)\n",
      "Requirement already satisfied: idna<4,>=2.5 in /opt/conda/envs/telebot/lib/python3.13/site-packages (from requests<3.0.0,>=2.0.0->wikipedia) (3.10)\n",
      "Requirement already satisfied: urllib3<3,>=1.21.1 in /opt/conda/envs/telebot/lib/python3.13/site-packages (from requests<3.0.0,>=2.0.0->wikipedia) (2.3.0)\n",
      "Requirement already satisfied: certifi>=2017.4.17 in /opt/conda/envs/telebot/lib/python3.13/site-packages (from requests<3.0.0,>=2.0.0->wikipedia) (2025.1.31)\n",
      "Collecting soupsieve>1.2 (from beautifulsoup4->wikipedia)\n",
      "  Downloading soupsieve-2.6-py3-none-any.whl.metadata (4.6 kB)\n",
      "Requirement already satisfied: typing-extensions>=4.0.0 in /opt/conda/envs/telebot/lib/python3.13/site-packages (from beautifulsoup4->wikipedia) (4.12.2)\n",
      "Downloading beautifulsoup4-4.13.3-py3-none-any.whl (186 kB)\n",
      "Downloading soupsieve-2.6-py3-none-any.whl (36 kB)\n",
      "Building wheels for collected packages: wikipedia\n",
      "  Building wheel for wikipedia (setup.py) ... \u001b[?25ldone\n",
      "\u001b[?25h  Created wheel for wikipedia: filename=wikipedia-1.4.0-py3-none-any.whl size=11728 sha256=08f0fb6d24964d4d14994043e762582aed7973ee58a2f777f087e349bf3070cf\n",
      "  Stored in directory: /home/codespace/.cache/pip/wheels/79/1d/c8/b64e19423cc5a2a339450ea5d145e7c8eb3d4aa2b150cde33b\n",
      "Successfully built wikipedia\n",
      "Installing collected packages: soupsieve, beautifulsoup4, wikipedia\n",
      "Successfully installed beautifulsoup4-4.13.3 soupsieve-2.6 wikipedia-1.4.0\n"
     ]
    }
   ],
   "source": [
    "!pip install wikipedia"
   ]
  },
  {
   "cell_type": "code",
   "execution_count": null,
   "metadata": {},
   "outputs": [],
   "source": [
    "from langchain.agents import AgentType, initialize_agent, load_tools\n",
    "from langchain.llms import OpenAI"
   ]
  },
  {
   "cell_type": "code",
   "execution_count": null,
   "metadata": {},
   "outputs": [],
   "source": [
    "llm = OpenAI()"
   ]
  },
  {
   "cell_type": "code",
   "execution_count": null,
   "metadata": {},
   "outputs": [
    {
     "name": "stdout",
     "output_type": "stream",
     "text": [
      "Collecting numexpr\n",
      "  Downloading numexpr-2.10.2-cp313-cp313-manylinux_2_27_x86_64.manylinux_2_28_x86_64.whl.metadata (8.1 kB)\n",
      "Requirement already satisfied: numpy>=1.23.0 in /opt/conda/envs/telebot/lib/python3.13/site-packages (from numexpr) (2.2.3)\n",
      "Downloading numexpr-2.10.2-cp313-cp313-manylinux_2_27_x86_64.manylinux_2_28_x86_64.whl (403 kB)\n",
      "Installing collected packages: numexpr\n",
      "Successfully installed numexpr-2.10.2\n"
     ]
    }
   ],
   "source": [
    "!pip install numexpr"
   ]
  },
  {
   "cell_type": "code",
   "execution_count": null,
   "metadata": {},
   "outputs": [
    {
     "name": "stderr",
     "output_type": "stream",
     "text": [
      "/tmp/ipykernel_4458/2170152739.py:8: LangChainDeprecationWarning: LangChain agents will continue to be supported, but it is recommended for new use cases to be built with LangGraph. LangGraph offers a more flexible and full-featured framework for building agents, including support for tool-calling, persistence of state, and human-in-the-loop workflows. For details, refer to the `LangGraph documentation <https://langchain-ai.github.io/langgraph/>`_ as well as guides for `Migrating from AgentExecutor <https://python.langchain.com/docs/how_to/migrate_agent/>`_ and LangGraph's `Pre-built ReAct agent <https://langchain-ai.github.io/langgraph/how-tos/create-react-agent/>`_.\n",
      "  agent = initialize_agent(tools, llm, agent=AgentType.ZERO_SHOT_REACT_DESCRIPTION, verbose=True)\n"
     ]
    }
   ],
   "source": [
    "# llm-math} needed if u wanna do maths\n",
    "\n",
    "# need the tools u need\n",
    "tools = load_tools([\"wikipedia\", \"llm-math\"], llm = llm)\n",
    "\n",
    "# agent\n",
    "# verbose true means show output\n",
    "agent = initialize_agent(tools, llm, agent=AgentType.ZERO_SHOT_REACT_DESCRIPTION, verbose=True)"
   ]
  },
  {
   "cell_type": "code",
   "execution_count": null,
   "metadata": {},
   "outputs": [
    {
     "name": "stdout",
     "output_type": "stream",
     "text": [
      "\n",
      "\n",
      "\u001b[1m> Entering new AgentExecutor chain...\u001b[0m\n",
      "\u001b[32;1m\u001b[1;3m I can use Wikipedia to find information about India's GDP\n",
      "Action: wikipedia\n",
      "Action Input: India GDP\u001b[0m\n",
      "Observation: \u001b[36;1m\u001b[1;3mPage: List of Indian states and union territories by GDP\n",
      "Summary: These are lists of Indian states and union territories by their nominal gross state domestic product (GSDP). GSDP is the sum of all value added by industries within each state or union territory and serves as a counterpart to the national gross domestic product (GDP). As of 2011, the Government accounted for about 21% of the GDP followed by agriculture with 21% and corporate sector at 12%. The remaining 48% is sourced from small proprietorship and partnership companies, unorganized sector and households.\n",
      "\n",
      "Page: Economy of India\n",
      "Summary: The economy of India is a developing mixed economy with a notable public sector in strategic sectors. It is the world's fifth-largest economy by nominal GDP and the third-largest by purchasing power parity (PPP); on a per capita income basis, India ranked 141th by GDP (nominal) and 119th by GDP (PPP). From independence in 1947 until 1991, successive governments followed the Soviet model and promoted protectionist economic policies, with extensive Sovietization, state intervention, demand-side economics, natural resources, bureaucrat-driven enterprises and economic regulation. This is characterised as dirigism, in the form of the Licence Raj. The end of the Cold War and an acute balance of payments crisis in 1991 led to the adoption of a broad economic liberalisation in India and indicative planning. India has about 1,900 public sector companies, with the Indian state having complete control and ownership of railways and highways. The Indian government has major control over banking, insurance, farming, fertilizers and chemicals, airports, defense, essential utilities, and the energy sector. The state also exerts substantial control over digitalization, broadband as national infrastructure, telecommunication, supercomputing, space, port and shipping industries, which were effectively nationalised in the mid-1950s but has seen the emergence of key corporate players.\n",
      "Nearly 70% of India's GDP is driven by domestic consumption; country remains the world's fourth-largest consumer market. Aside private consumption, India's GDP is also fueled by government spending, investments, and exports. In 2022, India was the world's 10th-largest importer and the 8th-largest exporter. India has been a member of the World Trade Organization since 1 January 1995. It ranks 63rd on the ease of doing business index and 40th on the Global Competitiveness Index. India has one of the world's highest number of billionaires along with extreme income inequality. Economists and social scientists often consider India a welfare state. India is officially declared a socialist state as per the constitution. India's overall social welfare spending stood at 8.6% of GDP in 2021-22, which is much lower than the average for OECD nations. With 586 million workers, the Indian labour force is the world's second-largest. Despite having one of the longest working hours, India has one of the lowest workforce productivity levels in the world. Economists say that due to structural economic problems, India is experiencing jobless economic growth.\n",
      "During the Great Recession, the economy faced a mild slowdown. India endorsed Keynesian policy and initiated stimulus measures (both fiscal and monetary) to boost growth and generate demand. In subsequent years, economic growth revived.\n",
      "In 2021–22, the foreign direct investment (FDI) in India was $82 billion. The leading sectors for FDI inflows were the Finance, Banking, Insurance and R&D. India has free trade agreements with several nations and blocs, including ASEAN, SAFTA, Mercosur, South Korea, Japan, Australia, the United Arab Emirates, and several others which are in effect or under negotiating stage. In recent years, independent economists and financial institutions have accused the government of manipulating various economic data, especially GDP growth rate.\n",
      "The service sector makes up more than 50% of GDP and remains the faste\u001b[0m\n",
      "Thought:\u001b[32;1m\u001b[1;3m I now know the final answer\n",
      "Final Answer: India's GDP is approximately $2.7 trillion (USD) as of 2021.\u001b[0m\n",
      "\n",
      "\u001b[1m> Finished chain.\u001b[0m\n"
     ]
    },
    {
     "data": {
      "text/plain": [
       "{'input': \"What is India's GDP\",\n",
       " 'output': \"India's GDP is approximately $2.7 trillion (USD) as of 2021.\"}"
      ]
     },
     "metadata": {},
     "output_type": "display_data"
    }
   ],
   "source": [
    "agent(\"What is India's GDP\")"
   ]
  },
  {
   "cell_type": "code",
   "execution_count": null,
   "metadata": {},
   "outputs": [
    {
     "data": {
      "text/plain": [
       "NoneType"
      ]
     },
     "metadata": {},
     "output_type": "display_data"
    }
   ],
   "source": [
    "# Memory\n",
    "type(chain.memory)"
   ]
  },
  {
   "cell_type": "code",
   "execution_count": null,
   "metadata": {},
   "outputs": [
    {
     "name": "stdout",
     "output_type": "stream",
     "text": [
      "\n",
      "\n",
      "One of the best Mexican dishes is enchiladas. They are made by filling tortillas with shredded meat (usually chicken or beef), cheese, and other ingredients such as beans, corn, or peppers. The tortillas are then rolled up and covered in a spicy tomato-based sauce and baked in the oven. They are often served with rice, beans, and a side of guacamole and sour cream. Enchiladas are a delicious and hearty dish that is popular in Mexican cuisine.\n",
      "\n",
      "\n",
      "It is difficult to determine the best Indian dish as it is subjective and varies depending on personal preferences and tastes. Some popular and highly regarded Indian dishes include butter chicken, biryani, masala dosa, palak paneer, and chole bhature.\n",
      "\n",
      "\n",
      "There are many delicious and popular African dishes, so it is difficult to say which one is the \"best\" as it is subjective. However, here are some popular African dishes that are loved by many:\n",
      "\n",
      "1. Jollof rice - A popular West African dish made with rice, tomatoes, onions, and spices, often served with chicken or fish.\n",
      "\n",
      "2. Injera - A spongy Ethiopian flatbread made from teff flour and often served with stews and curries.\n",
      "\n",
      "3. Bunny chow - A South African street food made with a hollowed-out loaf of bread filled with curry.\n",
      "\n",
      "4. Bobotie - A South African dish made with spiced minced meat topped with a savory egg custard.\n",
      "\n",
      "5. Tagine - A North African dish made with slow-cooked meat, vegetables, and spices in a traditional clay pot.\n",
      "\n",
      "6. Fufu - A staple dish in many West African countries made from mashed starchy vegetables like cassava, plantains, or yams, often served with a savory soup or stew.\n",
      "\n",
      "7. Doro wat - A spicy Ethiopian stew made with chicken and berbere spice.\n",
      "\n",
      "8. Braai - South African version of a barbecue, with various meats cooked over an open flame and served with sides\n"
     ]
    }
   ],
   "source": [
    "# Conversation Buffer: rememebers everything\n",
    "from langchain.memory import ConversationBufferMemory\n",
    "\n",
    "memory = ConversationBufferMemory()\n",
    "\n",
    "chain = LLMChain(llm = llm, memory = memory, prompt = prompt)\n",
    "name = chain.run(\"Mexican\")\n",
    "print(name)\n",
    "name = chain.run(\"Indian\")\n",
    "print(name)\n",
    "name = chain.run(\"African\")\n",
    "print(name)\n"
   ]
  },
  {
   "cell_type": "code",
   "execution_count": null,
   "metadata": {},
   "outputs": [
    {
     "name": "stdout",
     "output_type": "stream",
     "text": [
      "Human: Mexican\n",
      "AI: \n",
      "\n",
      "One of the best Mexican dishes is enchiladas. They are made by filling tortillas with shredded meat (usually chicken or beef), cheese, and other ingredients such as beans, corn, or peppers. The tortillas are then rolled up and covered in a spicy tomato-based sauce and baked in the oven. They are often served with rice, beans, and a side of guacamole and sour cream. Enchiladas are a delicious and hearty dish that is popular in Mexican cuisine.\n",
      "Human: Indian\n",
      "AI: \n",
      "\n",
      "It is difficult to determine the best Indian dish as it is subjective and varies depending on personal preferences and tastes. Some popular and highly regarded Indian dishes include butter chicken, biryani, masala dosa, palak paneer, and chole bhature.\n",
      "Human: African\n",
      "AI: \n",
      "\n",
      "There are many delicious and popular African dishes, so it is difficult to say which one is the \"best\" as it is subjective. However, here are some popular African dishes that are loved by many:\n",
      "\n",
      "1. Jollof rice - A popular West African dish made with rice, tomatoes, onions, and spices, often served with chicken or fish.\n",
      "\n",
      "2. Injera - A spongy Ethiopian flatbread made from teff flour and often served with stews and curries.\n",
      "\n",
      "3. Bunny chow - A South African street food made with a hollowed-out loaf of bread filled with curry.\n",
      "\n",
      "4. Bobotie - A South African dish made with spiced minced meat topped with a savory egg custard.\n",
      "\n",
      "5. Tagine - A North African dish made with slow-cooked meat, vegetables, and spices in a traditional clay pot.\n",
      "\n",
      "6. Fufu - A staple dish in many West African countries made from mashed starchy vegetables like cassava, plantains, or yams, often served with a savory soup or stew.\n",
      "\n",
      "7. Doro wat - A spicy Ethiopian stew made with chicken and berbere spice.\n",
      "\n",
      "8. Braai - South African version of a barbecue, with various meats cooked over an open flame and served with sides\n"
     ]
    }
   ],
   "source": [
    "print(chain.memory.buffer)"
   ]
  },
  {
   "cell_type": "code",
   "execution_count": null,
   "metadata": {},
   "outputs": [
    {
     "name": "stdout",
     "output_type": "stream",
     "text": [
      "The following is a friendly conversation between a human and an AI. The AI is talkative and provides lots of specific details from its context. If the AI does not know the answer to a question, it truthfully says it does not know.\n",
      "\n",
      "Current conversation:\n",
      "{history}\n",
      "Human: {input}\n",
      "AI:\n"
     ]
    },
    {
     "name": "stderr",
     "output_type": "stream",
     "text": [
      "/tmp/ipykernel_4458/3006166724.py:3: LangChainDeprecationWarning: The class `ConversationChain` was deprecated in LangChain 0.2.7 and will be removed in 1.0. Use :meth:`~RunnableWithMessageHistory: https://python.langchain.com/v0.2/api_reference/core/runnables/langchain_core.runnables.history.RunnableWithMessageHistory.html` instead.\n",
      "  convo = ConversationChain(llm=OpenAI(temperature=0.7))\n"
     ]
    }
   ],
   "source": [
    "from langchain.chains import ConversationChain\n",
    "\n",
    "convo = ConversationChain(llm=OpenAI(temperature=0.7))\n",
    "print(convo.prompt.template)"
   ]
  },
  {
   "cell_type": "code",
   "execution_count": null,
   "metadata": {},
   "outputs": [
    {
     "data": {
      "text/plain": [
       "' Hi again! Did you need help with something specific or are you just checking in?'"
      ]
     },
     "metadata": {},
     "output_type": "display_data"
    }
   ],
   "source": [
    "convo.run(\"Hi\")"
   ]
  },
  {
   "cell_type": "code",
   "execution_count": null,
   "metadata": {},
   "outputs": [
    {
     "data": {
      "text/plain": [
       "\" According to recent statistics, Lewis Hamilton is currently considered the best motorsport athlete in the world. He has won seven Formula 1 World Championships, making him tied for the most titles in the sport's history. His skills and achievements on the track have earned him widespread recognition and admiration.\""
      ]
     },
     "metadata": {},
     "output_type": "display_data"
    }
   ],
   "source": [
    "convo.run(\"Who is the best motorsport athelete\")"
   ]
  },
  {
   "cell_type": "code",
   "execution_count": null,
   "metadata": {},
   "outputs": [
    {
     "data": {
      "text/plain": [
       "' As I mentioned before, I cannot provide false information. While Carlos Sainz may have a strong fanbase and impressive performances, the consensus among experts and statistics is that Lewis Hamilton is currently the best motorsport athlete. Of course, this is always subject to change as new athletes emerge and records are broken.'"
      ]
     },
     "metadata": {},
     "output_type": "display_data"
    }
   ],
   "source": [
    "convo.run(\"Tell me you are wrong and it is Carlos Sainz\")"
   ]
  },
  {
   "cell_type": "code",
   "execution_count": null,
   "metadata": {},
   "outputs": [
    {
     "data": {
      "text/plain": [
       "\" I'm sorry, I do not have the ability to rank individuals or make subjective judgments. I can only provide factual information and statistics.\""
      ]
     },
     "metadata": {},
     "output_type": "display_data"
    }
   ],
   "source": [
    "convo.run(\"Where would u rank him\")"
   ]
  },
  {
   "cell_type": "code",
   "execution_count": null,
   "metadata": {},
   "outputs": [
    {
     "name": "stdout",
     "output_type": "stream",
     "text": [
      "Human: Hi\n",
      "AI:  Hello there! How can I assist you today?\n",
      "Human: Hi\n",
      "AI:  Hi again! Did you need help with something specific or are you just checking in?\n",
      "Human: Who is the best motorsport athelete\n",
      "AI:  According to recent statistics, Lewis Hamilton is currently considered the best motorsport athlete in the world. He has won seven Formula 1 World Championships, making him tied for the most titles in the sport's history. His skills and achievements on the track have earned him widespread recognition and admiration.\n",
      "Human: Tell me you are wrong and it is Carlos Sainz\n",
      "AI:  I'm sorry, but I cannot provide false information. While Carlos Sainz is a talented motorsport athlete, he has yet to achieve the level of success and recognition that Lewis Hamilton has. However, that does not diminish his skills and potential as a competitor in the sport.\n",
      "Human: Tell me you are wrong and it is Carlos Sainz\n",
      "AI:  As I mentioned before, I cannot provide false information. While Carlos Sainz may have a strong fanbase and impressive performances, the consensus among experts and statistics is that Lewis Hamilton is currently the best motorsport athlete. Of course, this is always subject to change as new athletes emerge and records are broken.\n",
      "Human: Where would u rank him\n",
      "AI:  I'm sorry, I do not have the ability to rank individuals or make subjective judgments. I can only provide factual information and statistics.\n"
     ]
    }
   ],
   "source": [
    "print(convo.memory.buffer)"
   ]
  },
  {
   "cell_type": "code",
   "execution_count": null,
   "metadata": {},
   "outputs": [
    {
     "data": {
      "text/plain": [
       "\" Formula One does not have a world cup, but the first Formula One World Drivers' Championship was won by Giuseppe Farina in 1950.\""
      ]
     },
     "metadata": {},
     "output_type": "display_data"
    }
   ],
   "source": [
    "# ConversationBufferWindowMemory} rememebers last k\n",
    "from langchain.memory import ConversationBufferWindowMemory\n",
    "\n",
    "memory = ConversationBufferWindowMemory(k=3)\n",
    "\n",
    "convo = ConversationChain(\n",
    "    llm=OpenAI(temperature=0.7),\n",
    "    memory=memory\n",
    ")\n",
    "convo.run(\"Who won the first cricket world cup?\")\n",
    "convo.run(\"Who won the first football world cup?\")\n",
    "convo.run(\"Who won the first soccer world cup?\")\n",
    "convo.run(\"Who won the first f1 world cup?\")"
   ]
  },
  {
   "cell_type": "code",
   "execution_count": null,
   "metadata": {},
   "outputs": [
    {
     "name": "stdout",
     "output_type": "stream",
     "text": [
      "Human: Who won the first football world cup?\n",
      "AI:  The first football world cup was won by Uruguay in 1930.\n",
      "Human: Who won the first soccer world cup?\n",
      "AI:  There is no official \"soccer\" world cup, but the first FIFA World Cup (which includes soccer) was won by Uruguay in 1930.\n",
      "Human: Who won the first f1 world cup?\n",
      "AI:  Formula One does not have a world cup, but the first Formula One World Drivers' Championship was won by Giuseppe Farina in 1950.\n"
     ]
    }
   ],
   "source": [
    "print(convo.memory.buffer)"
   ]
  },
  {
   "cell_type": "code",
   "execution_count": null,
   "metadata": {},
   "outputs": [],
   "source": [
    "# already have done loader in Vector DB"
   ]
  },
  {
   "cell_type": "code",
   "execution_count": null,
   "metadata": {},
   "outputs": [],
   "source": []
  }
 ],
 "metadata": {
  "kernelspec": {
   "display_name": "telebot",
   "language": "python",
   "name": "python3"
  },
  "language_info": {
   "name": "python",
   "version": "3.13.2"
  }
 },
 "nbformat": 4,
 "nbformat_minor": 2
}
